{
  "nbformat": 4,
  "nbformat_minor": 0,
  "metadata": {
    "colab": {
      "provenance": []
    },
    "kernelspec": {
      "name": "python3",
      "display_name": "Python 3"
    },
    "language_info": {
      "name": "python"
    }
  },
  "cells": [
    {
      "cell_type": "markdown",
      "source": [
        "Health care fraud detection"
      ],
      "metadata": {
        "id": "5P2jtcMNCI-T"
      }
    },
    {
      "cell_type": "code",
      "source": [
        "import pandas as pd\n",
        "import numpy as np\n",
        "from sklearn.model_selection import train_test_split\n",
        "from sklearn.ensemble import RandomForestClassifier\n",
        "from sklearn.metrics import classification_report, confusion_matrix\n",
        "\n",
        "# Load training datasets\n",
        "train = pd.read_csv(\"Train-1542865627584.csv\")\n",
        "train_beneficiary = pd.read_csv(\"Train_Beneficiarydata-1542865627584.csv\")\n",
        "train_inpatient = pd.read_csv(\"Train_Inpatientdata-1542865627584.csv\")\n",
        "train_outpatient = pd.read_csv(\"Train_Outpatientdata-1542865627584.csv\")\n",
        "\n",
        "# Load test datasets\n",
        "test = pd.read_csv(\"Unseen-1542969243754.csv\")\n",
        "test_beneficiary = pd.read_csv(\"Unseen_Beneficiarydata-1542969243754.csv\")\n",
        "test_inpatient = pd.read_csv(\"Unseen_Inpatientdata-1542969243754.csv\")\n",
        "test_outpatient = pd.read_csv(\"Unseen_Outpatientdata-1542969243754.csv\")\n"
      ],
      "metadata": {
        "id": "JgMsHMiiOi0u"
      },
      "execution_count": 85,
      "outputs": []
    },
    {
      "cell_type": "code",
      "source": [
        "# Inpatient Aggregation\n",
        "inpatient_agg = train_inpatient.groupby(\"Provider\").agg({\n",
        "    \"ClaimID\": \"count\",\n",
        "    \"InscClaimAmtReimbursed\": \"sum\"\n",
        "}).reset_index()\n",
        "inpatient_agg.columns = [\"Provider\", \"IP_Claim_Count\", \"IP_Reimbursed_Sum\"]\n",
        "\n",
        "# Outpatient Aggregation\n",
        "outpatient_agg = train_outpatient.groupby(\"Provider\").agg({\n",
        "    \"ClaimID\": \"count\",\n",
        "    \"InscClaimAmtReimbursed\": \"sum\"\n",
        "}).reset_index()\n",
        "outpatient_agg.columns = [\"Provider\", \"OP_Claim_Count\", \"OP_Reimbursed_Sum\"]\n"
      ],
      "metadata": {
        "id": "cZS2ace1Oka2"
      },
      "execution_count": 86,
      "outputs": []
    },
    {
      "cell_type": "code",
      "source": [
        "# Calculate Age from DOB\n",
        "train_beneficiary[\"DOB\"] = pd.to_datetime(train_beneficiary[\"DOB\"])\n",
        "train_beneficiary[\"Age\"] = 2016 - train_beneficiary[\"DOB\"].dt.year\n",
        "\n",
        "# Total Chronic Conditions\n",
        "chronic_cols = [col for col in train_beneficiary.columns if \"ChronicCond\" in col]\n",
        "train_beneficiary[\"ChronicCond_Count\"] = train_beneficiary[chronic_cols].replace(-1, 0).sum(axis=1)\n",
        "\n",
        "# Beneficiary level aggregation (mean per Provider)\n",
        "beneficiary_agg = train_beneficiary.groupby(\"BeneID\").agg({\n",
        "    \"Age\": \"mean\",\n",
        "    \"ChronicCond_Count\": \"mean\"\n",
        "}).reset_index()\n",
        "\n",
        "# Merge to get Provider level data\n",
        "bene_provider = pd.concat([train_inpatient[[\"BeneID\", \"Provider\"]],\n",
        "                           train_outpatient[[\"BeneID\", \"Provider\"]]]).drop_duplicates()\n",
        "bene_with_provider = pd.merge(bene_provider, beneficiary_agg, on=\"BeneID\")\n",
        "provider_bene_agg = bene_with_provider.groupby(\"Provider\").agg({\n",
        "    \"Age\": \"mean\",\n",
        "    \"ChronicCond_Count\": \"mean\"\n",
        "}).reset_index()\n"
      ],
      "metadata": {
        "id": "AxcJwfb4On4N"
      },
      "execution_count": 87,
      "outputs": []
    },
    {
      "cell_type": "code",
      "source": [
        "# Merge all features\n",
        "features = train[[\"Provider\", \"PotentialFraud\"]]\n",
        "features = features.merge(inpatient_agg, on=\"Provider\", how=\"left\")\n",
        "features = features.merge(outpatient_agg, on=\"Provider\", how=\"left\")\n",
        "features = features.merge(provider_bene_agg, on=\"Provider\", how=\"left\")\n",
        "\n",
        "# Fill missing values\n",
        "features.fillna(0, inplace=True)\n"
      ],
      "metadata": {
        "id": "bMXxozXMOpvF"
      },
      "execution_count": 88,
      "outputs": []
    },
    {
      "cell_type": "code",
      "source": [
        "# Prepare inputs\n",
        "X = features.drop(columns=[\"Provider\", \"PotentialFraud\"])\n",
        "y = features[\"PotentialFraud\"].map({\"Yes\": 1, \"No\": 0})\n",
        "\n",
        "# Train/Test Split\n",
        "X_train, X_val, y_train, y_val = train_test_split(X, y, test_size=0.2, random_state=42)\n",
        "\n",
        "# Train model\n",
        "model = RandomForestClassifier(n_estimators=100, random_state=42)\n",
        "model.fit(X_train, y_train)\n",
        "\n",
        "# Evaluation\n",
        "y_pred = model.predict(X_val)\n",
        "print(confusion_matrix(y_val, y_pred))\n",
        "print(classification_report(y_val, y_pred))\n"
      ],
      "metadata": {
        "colab": {
          "base_uri": "https://localhost:8080/"
        },
        "id": "xXO3pTlYOsw_",
        "outputId": "5bd9c284-3653-49e6-dbbe-ca59bf5f12fd"
      },
      "execution_count": 89,
      "outputs": [
        {
          "output_type": "stream",
          "name": "stdout",
          "text": [
            "[[958  19]\n",
            " [ 65  40]]\n",
            "              precision    recall  f1-score   support\n",
            "\n",
            "           0       0.94      0.98      0.96       977\n",
            "           1       0.68      0.38      0.49       105\n",
            "\n",
            "    accuracy                           0.92      1082\n",
            "   macro avg       0.81      0.68      0.72      1082\n",
            "weighted avg       0.91      0.92      0.91      1082\n",
            "\n"
          ]
        }
      ]
    },
    {
      "cell_type": "code",
      "source": [
        "# Age Calculation\n",
        "test_beneficiary[\"DOB\"] = pd.to_datetime(test_beneficiary[\"DOB\"], errors='coerce')\n",
        "test_beneficiary[\"Age\"] = 2016 - test_beneficiary[\"DOB\"].dt.year\n",
        "\n",
        "# Count Chronic Conditions\n",
        "chronic_cols_test = [col for col in test_beneficiary.columns if \"ChronicCond\" in col]\n",
        "test_beneficiary[\"ChronicCond_Count\"] = test_beneficiary[chronic_cols_test].replace(-1, 0).sum(axis=1)\n",
        "\n",
        "# Beneficiary-level aggregation\n",
        "beneficiary_agg_test = test_beneficiary.groupby(\"BeneID\").agg({\n",
        "    \"Age\": \"mean\",\n",
        "    \"ChronicCond_Count\": \"mean\"\n",
        "}).reset_index()\n",
        "\n",
        "# Link BeneID to Provider\n",
        "bene_provider_test = pd.concat([test_inpatient[[\"BeneID\", \"Provider\"]],\n",
        "                                test_outpatient[[\"BeneID\", \"Provider\"]]]).drop_duplicates()\n",
        "bene_with_provider_test = pd.merge(bene_provider_test, beneficiary_agg_test, on=\"BeneID\")\n",
        "provider_bene_agg_test = bene_with_provider_test.groupby(\"Provider\").agg({\n",
        "    \"Age\": \"mean\",\n",
        "    \"ChronicCond_Count\": \"mean\"\n",
        "}).reset_index()\n"
      ],
      "metadata": {
        "id": "YYcjKcL0O6kO"
      },
      "execution_count": 90,
      "outputs": []
    },
    {
      "cell_type": "code",
      "source": [
        "# Inpatient Test Aggregation\n",
        "inpatient_agg_test = test_inpatient.groupby(\"Provider\").agg({\n",
        "    \"ClaimID\": \"count\",\n",
        "    \"InscClaimAmtReimbursed\": \"sum\"\n",
        "}).reset_index()\n",
        "inpatient_agg_test.columns = [\"Provider\", \"IP_Claim_Count\", \"IP_Reimbursed_Sum\"]\n",
        "\n",
        "# Outpatient Test Aggregation\n",
        "outpatient_agg_test = test_outpatient.groupby(\"Provider\").agg({\n",
        "    \"ClaimID\": \"count\",\n",
        "    \"InscClaimAmtReimbursed\": \"sum\"\n",
        "}).reset_index()\n",
        "outpatient_agg_test.columns = [\"Provider\", \"OP_Claim_Count\", \"OP_Reimbursed_Sum\"]\n"
      ],
      "metadata": {
        "id": "Yd_UXPQDO8z3"
      },
      "execution_count": 91,
      "outputs": []
    },
    {
      "cell_type": "code",
      "source": [
        "# Merge all features\n",
        "test_features = test[[\"Provider\"]].drop_duplicates()\n",
        "test_features = test_features.merge(inpatient_agg_test, on=\"Provider\", how=\"left\")\n",
        "test_features = test_features.merge(outpatient_agg_test, on=\"Provider\", how=\"left\")\n",
        "test_features = test_features.merge(provider_bene_agg_test, on=\"Provider\", how=\"left\")\n",
        "\n",
        "# Fill missing values\n",
        "test_features.fillna(0, inplace=True)\n",
        "\n",
        "# Final test input (exclude Provider column for model input)\n",
        "X_test = test_features.drop(columns=[\"Provider\"])\n"
      ],
      "metadata": {
        "id": "u8eWFiL9O--_"
      },
      "execution_count": 92,
      "outputs": []
    },
    {
      "cell_type": "code",
      "source": [
        "# Predict on unseen data\n",
        "test_predictions = model.predict(X_test)\n",
        "test_features[\"PotentialFraud_Prediction\"] = np.where(test_predictions == 1, \"Yes\", \"No\")\n",
        "\n",
        "# View predictions\n",
        "print(test_features[[\"Provider\", \"PotentialFraud_Prediction\"]].head())\n"
      ],
      "metadata": {
        "colab": {
          "base_uri": "https://localhost:8080/"
        },
        "id": "TE0uxxrFPAgg",
        "outputId": "93dfec54-322c-4edb-c4c6-dca13ea471f7"
      },
      "execution_count": 93,
      "outputs": [
        {
          "output_type": "stream",
          "name": "stdout",
          "text": [
            "   Provider PotentialFraud_Prediction\n",
            "0  PRV51002                        No\n",
            "1  PRV51006                        No\n",
            "2  PRV51009                        No\n",
            "3  PRV51010                        No\n",
            "4  PRV51018                        No\n"
          ]
        }
      ]
    }
  ]
}